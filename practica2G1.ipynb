{
 "cells": [
  {
   "cell_type": "code",
   "execution_count": 20,
   "id": "4ee96ebe",
   "metadata": {},
   "outputs": [],
   "source": [
    "import pandas as pd\n",
    "from sqlalchemy import create_engine\n",
    "from urllib.parse import quote_plus\n"
   ]
  },
  {
   "cell_type": "code",
   "execution_count": 21,
   "id": "6b7ea3a3",
   "metadata": {},
   "outputs": [],
   "source": [
    "# Credenciales base 2\n",
    "user = \"postgres\"\n",
    "password = \"admin123\"   # tu contraseña real\n",
    "host = \"localhost\"\n",
    "port = \"5432\"\n",
    "database = \"ecommerce\""
   ]
  },
  {
   "cell_type": "code",
   "execution_count": 22,
   "id": "56066aa1",
   "metadata": {},
   "outputs": [
    {
     "name": "stdout",
     "output_type": "stream",
     "text": [
      "✅ CSV cargado correctamente en PostgreSQL\n"
     ]
    }
   ],
   "source": [
    "# Codificar la contraseña para URL\n",
    "password_encoded = quote_plus(password)\n",
    "\n",
    "# Crear motor de conexión\n",
    "engine = create_engine(\n",
    "    f\"postgresql+psycopg2://{user}:{password_encoded}@{host}:{port}/{database}\"\n",
    ")\n",
    "\n",
    "# Leer CSV\n",
    "df = pd.read_csv(\"olist_customers_dataset.csv\")\n",
    "\n",
    "# Subir a PostgreSQL\n",
    "df.to_sql(\"counterfeit_transactions\", engine, if_exists=\"replace\", index=False)\n",
    "\n",
    "print(\"✅ CSV cargado correctamente en PostgreSQL\")"
   ]
  },
  {
   "cell_type": "markdown",
   "id": "08079c87",
   "metadata": {},
   "source": [
    "# ## Crear tabla en PostgreSQL y cargar datos\n",
    "# Usamos `pandas.to_sql` para cargar todo el dataset a la base `olist` en la tabla `olist_customers`."
   ]
  },
  {
   "cell_type": "code",
   "execution_count": 23,
   "id": "0886b84e",
   "metadata": {},
   "outputs": [
    {
     "name": "stdout",
     "output_type": "stream",
     "text": [
      "✅ Datos cargados en la tabla 'olist_customers'\n"
     ]
    }
   ],
   "source": [
    "df.to_sql(\"olist_customers\", engine, if_exists=\"replace\", index=False)\n",
    "print(\"✅ Datos cargados en la tabla 'olist_customers'\")"
   ]
  },
  {
   "cell_type": "markdown",
   "id": "6c7ce563",
   "metadata": {},
   "source": [
    "# ## DataFrame 1 – Clientes (`df_clientes`)\n",
    "# Contiene los identificadores principales de clientes.\n",
    "# - customer_id\n",
    "# - customer_unique_id\n",
    "# - customer_zip_code_prefix\n",
    "#\n",
    "# **Filtros:**\n",
    "# 1. Clientes únicos por `customer_unique_id`.\n",
    "# 2. Clientes con ZIP > 90000.\n",
    "# 3. Clientes duplicados en `customer_id`.\n"
   ]
  },
  {
   "cell_type": "code",
   "execution_count": 24,
   "id": "0564edba",
   "metadata": {},
   "outputs": [
    {
     "name": "stdout",
     "output_type": "stream",
     "text": [
      "Clientes: (99441, 3)\n"
     ]
    }
   ],
   "source": [
    "df_clientes = df[[\"customer_id\",\"customer_unique_id\",\"customer_zip_code_prefix\"]].copy()\n",
    "print(\"Clientes:\", df_clientes.shape)\n",
    "df_clientes.head()\n",
    "\n",
    "# Filtros\n",
    "clientes_unicos = df_clientes.drop_duplicates(subset=[\"customer_unique_id\"])\n",
    "clientes_zip_altos = df_clientes[df_clientes[\"customer_zip_code_prefix\"] > 90000]\n",
    "clientes_duplicados = df_clientes[df_clientes.duplicated(subset=[\"customer_id\"], keep=False)]"
   ]
  },
  {
   "cell_type": "markdown",
   "id": "c44c444b",
   "metadata": {},
   "source": [
    "# ## DataFrame 2 – Ubicaciones (`df_ubicaciones`)\n",
    "# Información de localización.\n",
    "# - customer_city\n",
    "# - customer_state\n",
    "#\n",
    "# **Filtros:**\n",
    "# 1. Clientes del estado \"SP\".\n",
    "# 2. Clientes de ciudades con más de 500 registros.\n",
    "# 3. Clientes de estados diferentes de \"SP\" y \"RJ\"."
   ]
  },
  {
   "cell_type": "code",
   "execution_count": 25,
   "id": "a63d9c9e",
   "metadata": {},
   "outputs": [
    {
     "name": "stdout",
     "output_type": "stream",
     "text": [
      "Ubicaciones: (99441, 3)\n"
     ]
    }
   ],
   "source": [
    "df_ubicaciones = df[[\"customer_id\",\"customer_city\",\"customer_state\"]].copy()\n",
    "print(\"Ubicaciones:\", df_ubicaciones.shape)\n",
    "df_ubicaciones.head()\n",
    "\n",
    "# Filtros\n",
    "clientes_sp = df_ubicaciones[df_ubicaciones[\"customer_state\"] == \"SP\"]\n",
    "clientes_ciudades_top = df_ubicaciones[df_ubicaciones[\"customer_city\"].isin(\n",
    "    df_ubicaciones[\"customer_city\"].value_counts().head(10).index\n",
    ")]\n",
    "clientes_otro_estado = df_ubicaciones[~df_ubicaciones[\"customer_state\"].isin([\"SP\",\"RJ\"])]\n"
   ]
  },
  {
   "cell_type": "markdown",
   "id": "9d98a7bf",
   "metadata": {},
   "source": [
    "# ## DataFrame 3 – Identificadores (`df_identificadores`)\n",
    "# Validación de consistencia entre IDs y duplicados.\n",
    "# - customer_id\n",
    "# - customer_unique_id\n",
    "#\n",
    "# **Filtros:**\n",
    "# 1. IDs únicos → conteo de `customer_id`.\n",
    "# 2. Revisión de duplicados en `customer_unique_id`.\n",
    "# 3. Top 10 IDs con más repeticiones."
   ]
  },
  {
   "cell_type": "code",
   "execution_count": 26,
   "id": "2539293e",
   "metadata": {},
   "outputs": [
    {
     "name": "stdout",
     "output_type": "stream",
     "text": [
      "Total customer_id únicos: 99441\n",
      "Duplicados en customer_unique_id: (6342, 2)\n",
      "Top 10 customer_unique_id repetidos:\n",
      "customer_unique_id\n",
      "8d50f5eadf50201ccdcedfb9e2ac8455    17\n",
      "3e43e6105506432c953e165fb2acf44c     9\n",
      "6469f99c1f9dfae7733b25662e7f1782     7\n",
      "ca77025e7201e3b30c44b472ff346268     7\n",
      "1b6c7548a2a1f9037c1fd3ddfed95f33     7\n",
      "12f5d6e1cbf93dafd9dcc19095df0b3d     6\n",
      "dc813062e0fc23409cd255f7f53c7074     6\n",
      "47c1a3033b8b77b3ab6e109eb4d5fdf3     6\n",
      "de34b16117594161a6a89c50b289d35a     6\n",
      "63cfc61cee11cbe306bff5857d00bfe4     6\n",
      "Name: count, dtype: int64\n"
     ]
    }
   ],
   "source": [
    "df_identificadores = df[[\"customer_id\",\"customer_unique_id\"]].copy()\n",
    "\n",
    "# Filtros\n",
    "total_ids_unicos = df_identificadores[\"customer_id\"].nunique()\n",
    "duplicados_unique_id = df_identificadores[df_identificadores.duplicated(subset=[\"customer_unique_id\"], keep=False)]\n",
    "top_ids = df_identificadores[\"customer_unique_id\"].value_counts().head(10)\n",
    "\n",
    "print(\"Total customer_id únicos:\", total_ids_unicos)\n",
    "print(\"Duplicados en customer_unique_id:\", duplicados_unique_id.shape)\n",
    "print(\"Top 10 customer_unique_id repetidos:\")\n",
    "print(top_ids)"
   ]
  }
 ],
 "metadata": {
  "kernelspec": {
   "display_name": "mi_entorno",
   "language": "python",
   "name": "python3"
  },
  "language_info": {
   "codemirror_mode": {
    "name": "ipython",
    "version": 3
   },
   "file_extension": ".py",
   "mimetype": "text/x-python",
   "name": "python",
   "nbconvert_exporter": "python",
   "pygments_lexer": "ipython3",
   "version": "3.13.6"
  }
 },
 "nbformat": 4,
 "nbformat_minor": 5
}
